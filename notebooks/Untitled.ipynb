{
 "cells": [
  {
   "cell_type": "code",
   "execution_count": 1,
   "id": "620bca26-4133-4fd6-806c-e603302c7247",
   "metadata": {},
   "outputs": [],
   "source": [
    "import torch"
   ]
  },
  {
   "cell_type": "code",
   "execution_count": 3,
   "id": "5527e08d-aca5-4363-8d9a-2f5be334c533",
   "metadata": {},
   "outputs": [],
   "source": [
    "import torchshow as ts\n"
   ]
  },
  {
   "cell_type": "code",
   "execution_count": null,
   "id": "789c6606-d836-466f-bdae-9c254f05da6d",
   "metadata": {},
   "outputs": [],
   "source": []
  }
 ],
 "metadata": {
  "kernelspec": {
   "display_name": "dcds",
   "language": "python",
   "name": "dcds"
  },
  "language_info": {
   "codemirror_mode": {
    "name": "ipython",
    "version": 3
   },
   "file_extension": ".py",
   "mimetype": "text/x-python",
   "name": "python",
   "nbconvert_exporter": "python",
   "pygments_lexer": "ipython3",
   "version": "3.9.21"
  }
 },
 "nbformat": 4,
 "nbformat_minor": 5
}
